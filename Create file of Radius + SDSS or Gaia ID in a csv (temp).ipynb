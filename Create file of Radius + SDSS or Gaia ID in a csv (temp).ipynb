{
 "cells": [
  {
   "cell_type": "code",
   "execution_count": null,
   "id": "bbbddfb8",
   "metadata": {},
   "outputs": [],
   "source": [
    "import astropy\n",
    "from astropy.io import fits\n",
    "import matplotlib\n",
    "import matplotlib.pyplot as plt\n",
    "import numpy as np\n",
    "import pandas as pd\n",
    "\n",
    "df = pd.read_csv(r'Targets+2_12.csv')\n",
    "df2 = pd.read_csv(r'radii.csv')\n",
    "df\n"
   ]
  },
  {
   "cell_type": "code",
   "execution_count": null,
   "id": "a8f05a4e",
   "metadata": {},
   "outputs": [],
   "source": [
    "df3 = df[[\"SDSS ID\", \"Gaia ID\"]]\n",
    "len(df3)\n",
    "final_total = pd.read_csv(r'Targets+2_12.csv')\n",
    "final_tester = {'ID': [], 'radius':[]}\n",
    "for i in range (len(df2)):\n",
    "    current_radius = df2[\"radius\"][i]\n",
    "    current_ID = df2[\"starID\"][i]\n",
    "    for j in range (len(df3)):\n",
    "        current_VAR_SDSS = df3['SDSS ID'][j]\n",
    "        current_VAR_Gaia = df3[\"Gaia ID\"][j]\n",
    "        if current_ID == current_VAR_SDSS:\n",
    "            final_tester[\"ID\"].append(current_ID)\n",
    "            final_tester[\"radius\"].append(current_radius)\n",
    "        elif current_ID == current_VAR_Gaia:\n",
    "            final_tester[\"ID\"].append(current_ID)\n",
    "            final_tester[\"radius\"].append(current_radius)\n",
    "\n",
    "            \n",
    "df_l = pd.DataFrame(final_tester)"
   ]
  },
  {
   "cell_type": "code",
   "execution_count": null,
   "id": "647d2876",
   "metadata": {},
   "outputs": [],
   "source": [
    "type(df_l)"
   ]
  },
  {
   "cell_type": "code",
   "execution_count": null,
   "id": "fd381556",
   "metadata": {},
   "outputs": [],
   "source": [
    "df_l"
   ]
  },
  {
   "cell_type": "code",
   "execution_count": null,
   "id": "2a1dfc37",
   "metadata": {},
   "outputs": [],
   "source": []
  }
 ],
 "metadata": {
  "kernelspec": {
   "display_name": "Python 3 (ipykernel)",
   "language": "python",
   "name": "python3"
  },
  "language_info": {
   "codemirror_mode": {
    "name": "ipython",
    "version": 3
   },
   "file_extension": ".py",
   "mimetype": "text/x-python",
   "name": "python",
   "nbconvert_exporter": "python",
   "pygments_lexer": "ipython3",
   "version": "3.10.9"
  }
 },
 "nbformat": 4,
 "nbformat_minor": 5
}
