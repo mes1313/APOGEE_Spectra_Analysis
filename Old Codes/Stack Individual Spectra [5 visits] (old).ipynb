{
 "cells": [
  {
   "cell_type": "code",
   "execution_count": null,
   "id": "99991b44",
   "metadata": {},
   "outputs": [],
   "source": [
    "#Import the file and assign Cdelt and CritVal\n",
    "\n",
    "import astropy\n",
    "from astropy.io import fits\n",
    "import matplotlib\n",
    "import matplotlib.pyplot as plt\n",
    "import numpy as np\n",
    "import pandas as pd\n",
    "\n",
    "hdulist = fits.open('apStar-dr17-2M01273255+1554320.fits')\n",
    "\n",
    "spectra_hdu = hdulist[1]\n",
    "\n",
    "crval = spectra_hdu.header['CRVAL1']\n",
    "cdelt = spectra_hdu.header['CDELT1']\n",
    "\n",
    "print(crval)\n",
    "print(cdelt)\n",
    "\n",
    "spectra_data = spectra_hdu.data\n",
    "spectra_data.shape"
   ]
  },
  {
   "cell_type": "code",
   "execution_count": null,
   "id": "7e42a013",
   "metadata": {},
   "outputs": [],
   "source": [
    "#Wavelength Function and to-CSV\n",
    "\n",
    "startwave = 10**crval\n",
    "space = 10**cdelt\n",
    "nwave = np.arange(8575)\n",
    "\n",
    "def waves():\n",
    "    nwave2 = startwave*(space**nwave)\n",
    "    return nwave2\n",
    "\n",
    "wavelengs = waves()\n",
    "wavelengs.shape"
   ]
  },
  {
   "cell_type": "code",
   "execution_count": null,
   "id": "8dbc4eb2",
   "metadata": {
    "scrolled": true
   },
   "outputs": [],
   "source": [
    "#Spectra 1 information\n",
    "\n",
    "visit_one_data = spectra_data[2,:]\n",
    "\n",
    "#Spectra 1 dataframe\n",
    "\n",
    "df1 = pd.DataFrame({'flux': visit_one_data,'wavelengths':wavelengs})\n"
   ]
  },
  {
   "cell_type": "code",
   "execution_count": null,
   "id": "d4057b65",
   "metadata": {},
   "outputs": [],
   "source": [
    "#Spectra 2 information\n",
    "visit_two_data = spectra_data[3,:]\n",
    "\n",
    "#Spectra 2 dataframe\n",
    "\n",
    "df2 = pd.DataFrame({'flux': visit_two_data,'wavelengths':wavelengs})"
   ]
  },
  {
   "cell_type": "code",
   "execution_count": null,
   "id": "cfc4dc52",
   "metadata": {},
   "outputs": [],
   "source": [
    "#Spectra 3 information\n",
    "\n",
    "visit_three_data = spectra_data[4,:]\n",
    "\n",
    "\n",
    "#Spectra 3 dataframe\n",
    "\n",
    "df3 = pd.DataFrame({'flux': visit_three_data,'wavelengths':wavelengs})"
   ]
  },
  {
   "cell_type": "code",
   "execution_count": null,
   "id": "29991f8e",
   "metadata": {},
   "outputs": [],
   "source": [
    "#Spectra 4 information\n",
    "\n",
    "visit_four_data = spectra_data[5,:]\n",
    "\n",
    "\n",
    "#Spectra 4 dataframe\n",
    "df4 = pd.DataFrame({'flux': visit_four_data,'wavelengths':wavelengs})"
   ]
  },
  {
   "cell_type": "code",
   "execution_count": null,
   "id": "4ef70fa6",
   "metadata": {},
   "outputs": [],
   "source": [
    "#Spectra 5 information\n",
    "\n",
    "visit_five_data = spectra_data[6,:]\n",
    "\n",
    "\n",
    "#Spectra 5 dataframe\n",
    "\n",
    "df5 = pd.DataFrame({'flux': visit_five_data,'wavelengths':wavelengs})"
   ]
  },
  {
   "cell_type": "code",
   "execution_count": null,
   "id": "9a92889f",
   "metadata": {
    "scrolled": false
   },
   "outputs": [],
   "source": [
    "#Plotting of Individual Spectra #1\n",
    "\n",
    "%matplotlib notebook\n",
    "matplotlib.rcParams.update({'font.size': 55})\n",
    "\n",
    "fig = plt.figure(figsize = (50, 125))\n",
    "ax = fig.add_subplot(111)    # The big subplot\n",
    "ax1 = fig.add_subplot(511)\n",
    "ax2 = fig.add_subplot(512)\n",
    "ax3 = fig.add_subplot(513)\n",
    "ax4 = fig.add_subplot(514)\n",
    "ax5 = fig.add_subplot(515)\n",
    "\n",
    "# Turn off axis lines and ticks of the big subplot\n",
    "ax.spines['top'].set_color('none')\n",
    "ax.spines['bottom'].set_color('none')\n",
    "ax.spines['left'].set_color('none')\n",
    "ax.spines['right'].set_color('none')\n",
    "ax.tick_params(labelcolor='w', top=False, bottom=False, left=False, right=False)\n",
    "\n",
    "\n",
    "ax1.plot(wavelengs, df1.flux,linewidth = 1)\n",
    "ax2.plot(wavelengs, df2.flux,linewidth = 1)\n",
    "ax3.plot(wavelengs, df3.flux,linewidth = 1)\n",
    "ax4.plot(wavelengs, df4.flux, linewidth = 1)\n",
    "ax5.plot(wavelengs, df5.flux,linewidth = 1)\n",
    "\n",
    "ax1.set_xlim([15400,15620])\n",
    "ax1.set_ylim([-50,1100])\n",
    "ax2.set_xlim([15400,15620])\n",
    "ax2.set_ylim([-50,1100])\n",
    "ax3.set_xlim([15400,15620])\n",
    "ax3.set_ylim([-50,1100])\n",
    "ax4.set_xlim([15400,15620])\n",
    "ax4.set_ylim([-50,1100])\n",
    "ax5.set_xlim([15400,15620])\n",
    "ax5.set_ylim([-50,1100])\n",
    "\n",
    "fig.suptitle('Flux/Wavelengths for APOGEE Object (BLANK) (visits 1-5 stacked)', fontsize=80)\n",
    "fig.supxlabel('Wavelengths (A)', fontsize=80)\n",
    "fig.supylabel('Flux (10^-17 erg/s/cm^2/Ang', fontsize=80)\n",
    "\n",
    "\n",
    "fig.show()\n",
    "plt.savefig('stacked_spectra(5v).png', dpi=300)\n"
   ]
  },
  {
   "cell_type": "code",
   "execution_count": null,
   "id": "6a11e0d1",
   "metadata": {},
   "outputs": [],
   "source": [
    "#Radial Velocity for visits\n",
    "\n",
    "rvbin = hdulist[9]\n",
    "rvbin.header\n",
    "\n",
    "RV = rvbin.header['TTYPE5']\n",
    "RVdata = rvbin.data[RV]\n",
    "\n",
    "JD = rvbin.header['TTYPE2']\n",
    "JDdata = rvbin.data[JD]\n",
    "\n",
    "\n",
    "minRV = float('inf')\n",
    "maxRV = -float('inf')\n",
    "\n",
    "for i in range(len(RVdata)):\n",
    "    if RVdata[i] > maxRV:\n",
    "        maxRV = RVdata[i]\n",
    "    if RVdata[i] < minRV:\n",
    "        minRV = RVdata[i]\n",
    "        \n",
    "del_RV = maxRV - minRV\n",
    "t_one = JDdata[np.where(RVdata==maxRV)]\n",
    "t_two = JDdata[np.where(RVdata==minRV)]\n",
    "del_time = t_one - t_two\n",
    "\n",
    "if del_time < 0:\n",
    "    del_time = -del_time\n",
    "del_RV"
   ]
  },
  {
   "cell_type": "code",
   "execution_count": null,
   "id": "35b8053d",
   "metadata": {},
   "outputs": [],
   "source": [
    "del_time_g = del_time / 86400\n",
    "del_RV_max = del_RV/del_time_g\n",
    "del_RV_max"
   ]
  },
  {
   "cell_type": "code",
   "execution_count": null,
   "id": "1d9b2e44",
   "metadata": {},
   "outputs": [],
   "source": [
    "del_time"
   ]
  },
  {
   "cell_type": "code",
   "execution_count": null,
   "id": "146f2ff3",
   "metadata": {},
   "outputs": [],
   "source": [
    "RVdata"
   ]
  },
  {
   "cell_type": "code",
   "execution_count": null,
   "id": "c7dc8155",
   "metadata": {},
   "outputs": [],
   "source": [
    "hdulist[9].header"
   ]
  },
  {
   "cell_type": "code",
   "execution_count": null,
   "id": "ddd6d104",
   "metadata": {},
   "outputs": [],
   "source": []
  }
 ],
 "metadata": {
  "kernelspec": {
   "display_name": "Python 3 (ipykernel)",
   "language": "python",
   "name": "python3"
  },
  "language_info": {
   "codemirror_mode": {
    "name": "ipython",
    "version": 3
   },
   "file_extension": ".py",
   "mimetype": "text/x-python",
   "name": "python",
   "nbconvert_exporter": "python",
   "pygments_lexer": "ipython3",
   "version": "3.10.9"
  }
 },
 "nbformat": 4,
 "nbformat_minor": 5
}
