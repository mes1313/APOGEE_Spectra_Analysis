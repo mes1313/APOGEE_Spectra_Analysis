{
 "cells": [
  {
   "cell_type": "markdown",
   "id": "b43a4e28",
   "metadata": {},
   "source": [
    "# Note, for this program, we are using the allStar-dr17-synspec_rev1.fits file. This is because the original DR17 release of the allStar file had mistakes with the LSF on over 100k LCO stars. This file accounts for these issues, and includes these additional objects"
   ]
  },
  {
   "cell_type": "code",
   "execution_count": null,
   "id": "f0894314",
   "metadata": {},
   "outputs": [],
   "source": [
    "#Importing packages and downloading the allStar file\n",
    "\n",
    "import astropy\n",
    "from astropy.io import fits\n",
    "import matplotlib\n",
    "import matplotlib.pyplot as plt\n",
    "import numpy as np\n",
    "import pandas as pd\n",
    "\n",
    "\n",
    "hdulist = fits.open(\"allStar-dr17-synspec_rev1.fits\")\n",
    "hdu = hdulist[1]\n",
    "hdu.header"
   ]
  },
  {
   "cell_type": "code",
   "execution_count": null,
   "id": "4c4bbb89",
   "metadata": {},
   "outputs": [],
   "source": [
    "#Extracting pertinent information about the objects\n",
    "\n",
    "SDSSID = hdu.header['TTYPE2']\n",
    "SDSSIDdata = hdu.data[SDSSID]\n",
    "\n",
    "FieldID = hdu.header['TTYPE8']\n",
    "FieldIDdata = hdu.data[FieldID]\n",
    "\n",
    "Telescope = hdu.header['TTYPE6']\n",
    "Telescopedata = hdu.data[Telescope]\n",
    "\n",
    "GAIAID = hdu.header['TTYPE83']\n",
    "GAIAIDdata = hdu.data[GAIAID]\n",
    "\n",
    "ra = hdu.header['TTYPE10']\n",
    "radata = hdu.data[ra]\n",
    "#right accension\n",
    "\n",
    "d = hdu.header['TTYPE11']\n",
    "ddata = hdu.data[d]\n",
    "#declination\n",
    "\n",
    "teff = hdu.header['TTYPE129']\n",
    "teffdata = hdu.data[teff]\n",
    "#effective temperature\n",
    "\n",
    "logg = hdu.header['TTYPE131']\n",
    "loggdata = hdu.data[logg]\n",
    "#surface gravity\n",
    "\n",
    "nvisits = hdu.header['TTYPE57']\n",
    "nvisitsdata = hdu.data[nvisits]\n",
    "#number of visits (doppler)\n",
    "\n",
    "vscatter = hdu.header['TTYPE65']\n",
    "vscatterdata = hdu.data[vscatter]\n",
    "#v_scatter parameter\n",
    "\n",
    "vsini = hdu.header['TTYPE139']\n",
    "vsinidata = hdu.data[vsini]\n",
    "#vsin(i) paramater\n",
    "\n",
    "SLs = hdu.header['TTYPE76']\n",
    "SLsdata = hdu.data[SLs]\n",
    "#number of spectral lines from doppler fit\n",
    "\n",
    "carbon_abundance = hdu.header['TTYPE142']\n",
    "nitrogen_abundance = hdu.header['TTYPE153']\n",
    "cdata = hdu.data[carbon_abundance]\n",
    "ndata = hdu.data[nitrogen_abundance]\n",
    "#metallicities of C and N\n",
    "\n",
    "S_N = hdu.header['TTYPE59']\n",
    "S_N_data = hdu.data[S_N]\n",
    "#signal-to-noise"
   ]
  },
  {
   "cell_type": "code",
   "execution_count": null,
   "id": "c8dd23cd",
   "metadata": {},
   "outputs": [],
   "source": [
    "#Reducing the data files to DF sizing\n",
    "\n",
    "\n",
    "teff_1 = teffdata.reshape(733901, 1)\n",
    "logg_1 = loggdata.reshape(733901, 1)\n",
    "nvisits_1 = nvisitsdata.reshape(733901, 1)\n",
    "vscatter_1 = vscatterdata.reshape(733901, 1)\n",
    "vsini_1 = vsinidata.reshape(733901,1)\n",
    "SLs_1 = SLsdata.reshape(733901,1)\n",
    "SDSSID_1 = SDSSIDdata.reshape(733901,1)\n",
    "GAIAID_1 = GAIAIDdata.reshape(733901,1)\n",
    "FieldID_1 = FieldIDdata.reshape(733901,1)\n",
    "Telescope_1 = Telescopedata.reshape(733901,1)\n",
    "S_N_1 = S_N_data.reshape(733901,1)\n",
    "ra_1 = radata.reshape(733901,1)\n",
    "d_1 = ddata.reshape(733901,1)\n",
    "c_1 = cdata.reshape(733901,1)\n",
    "n_1 = ndata.reshape(733901,1)\n",
    "\n",
    "teff_final = np.concatenate(teff_1)\n",
    "logg_final = np.concatenate(logg_1)\n",
    "nvisits_final = np.concatenate(nvisits_1)\n",
    "vscatter_final = np.concatenate(vscatter_1)\n",
    "vsini_final = np.concatenate(vsini_1)\n",
    "SLs_final = np.concatenate(SLs_1)\n",
    "SDSSID_final = np.concatenate(SDSSID_1)\n",
    "GAIAID_final = np.concatenate(GAIAID_1)\n",
    "FieldID_final = np.concatenate(FieldID_1)\n",
    "Telescope_final = np.concatenate(Telescope_1)\n",
    "S_N_final = np.concatenate(S_N_1)\n",
    "ra_final = np.concatenate(ra_1)\n",
    "d_final = np.concatenate(d_1)\n",
    "c_final = np.concatenate(c_1)\n",
    "n_final = np.concatenate(n_1)"
   ]
  },
  {
   "cell_type": "code",
   "execution_count": null,
   "id": "dd420312",
   "metadata": {},
   "outputs": [],
   "source": [
    "#Initialize the DF\n",
    "\n",
    "df1 = pd.DataFrame({'field':FieldID_final,'telescope': Telescope_final,'sdss-id':SDSSID_final, 'gaia-id': GAIAID_final, 'right ascension':ra_final, 'declination': d_final, 'teff': teff_final, \n",
    "                    'logg': logg_final, 'nvisits': nvisits_final, \n",
    "                    'vscatter': vscatter_final, 'vsini': vsini_final, 'numSLs': SLs_final,'avg signal to noise':S_N_final, 'C_Fe_Ratio': c_final, 'N_Fe_Ratio': n_final})"
   ]
  },
  {
   "cell_type": "code",
   "execution_count": null,
   "id": "77e32692",
   "metadata": {},
   "outputs": [],
   "source": [
    "#Reduce the initial DF to only those with the following parameter values\n",
    "df2 = df1.query('nvisits>=2 & vscatter >= 1 & vsini > 10 & teff >3500 & teff <6000 & logg >3 & logg<4 & numSLs == 1')"
   ]
  },
  {
   "cell_type": "code",
   "execution_count": null,
   "id": "32ccafda",
   "metadata": {},
   "outputs": [],
   "source": [
    "#Calculating metallicity in terms of C/N and adding it as a new column into the final DF\n",
    "\n",
    "C_N = df2.C_Fe_Ratio - df2.N_Fe_Ratio\n",
    "\n",
    "df3 = pd.DataFrame({\"C_N\": C_N})\n",
    "df4 = pd.concat([df2, df3], axis=1, join=\"inner\")"
   ]
  },
  {
   "cell_type": "code",
   "execution_count": null,
   "id": "5d27d1c4",
   "metadata": {
    "scrolled": true
   },
   "outputs": [],
   "source": [
    "#Plotting\n",
    "\n",
    "%matplotlib notebook\n",
    "\n",
    "fig, ax = plt.subplots(figsize=(10, 5))\n",
    "sizer = 10\n",
    "scatter = ax.scatter(df4.teff, df4.logg, c= df4.C_N, label = 'Teff/Logg', s=sizer)\n",
    "ax.set_xlim([6000,4000])\n",
    "ax.set_ylim([4, 3])\n",
    "fig.suptitle('Log(g) / Effective Temperature (2 or more visits, vscatter > 1 [km/s], vsin(i) > 10 [km/s], and only 1 set of Spectral Lines)', fontsize=11)\n",
    "plt.xlabel('Effective Temperature [K]', fontsize=12)\n",
    "plt.ylabel('Log(g) [log10(cm/s^2)]', fontsize=12)\n",
    "legend = ax.legend(*scatter.legend_elements(),loc=\"center right\", title=\"C/N [dex]\")\n",
    "ax.add_artist(legend)\n",
    "fig.show()"
   ]
  },
  {
   "cell_type": "code",
   "execution_count": null,
   "id": "a7713857",
   "metadata": {},
   "outputs": [],
   "source": [
    "#Export to CSV\n",
    "\n",
    "df4.to_csv(r'ReducedListofAPOGEEStars(dr17).csv')"
   ]
  }
 ],
 "metadata": {
  "kernelspec": {
   "display_name": "Python 3 (ipykernel)",
   "language": "python",
   "name": "python3"
  },
  "language_info": {
   "codemirror_mode": {
    "name": "ipython",
    "version": 3
   },
   "file_extension": ".py",
   "mimetype": "text/x-python",
   "name": "python",
   "nbconvert_exporter": "python",
   "pygments_lexer": "ipython3",
   "version": "3.10.9"
  }
 },
 "nbformat": 4,
 "nbformat_minor": 5
}
