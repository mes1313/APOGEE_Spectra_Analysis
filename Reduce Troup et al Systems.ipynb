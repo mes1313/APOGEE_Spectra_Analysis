{
 "cells": [
  {
   "cell_type": "code",
   "execution_count": null,
   "id": "28c19596",
   "metadata": {
    "scrolled": true
   },
   "outputs": [],
   "source": [
    "import astropy\n",
    "from astropy.io import fits\n",
    "import matplotlib\n",
    "import matplotlib.pyplot as plt\n",
    "import numpy as np\n",
    "import pandas as pd\n",
    "import csv\n",
    "import math"
   ]
  },
  {
   "cell_type": "code",
   "execution_count": null,
   "id": "d6e55c00",
   "metadata": {},
   "outputs": [],
   "source": [
    "# This data file is accessed through a download of the objects from Troup et al. 2016 (Companions to APOGEE Stars\n",
    "# I. A Milky Way-Spanning Catalog of Stellar and Substellar Companion Candidates and their Diverse Hosts), \n",
    "# accessible here: https://filtergraph.com/apOrbitPub\n",
    "# This work's most significant contribution with relation to this project is a set of \"high mass ratio\" candidates\n",
    "# which are the most likely candidates from this sample to hold stellar remnants of relevant size for this project\n",
    "\n",
    "data = pd.read_csv(\"goldOrbit-dr12_fourth.fits.csv\")\n",
    "\n",
    "\n",
    "pi = math.pi\n",
    "del_m = (8 / pi) * data['MSINI']\n",
    "star_mass = data['MSTAR']\n",
    "divided = (del_m / star_mass)\n",
    "\n",
    "# This is the formula used to calculate the high-mass objects. If the divided value is greater than 1,\n",
    "# the system is considered \"high mass ratio\" (also, instead of using the 4 / pi ratio for the del_m value \n",
    "# as presented in Troup et al. 2016, we used a ratio of 8 / pi so that we could set the divided parameter\n",
    "# to greater than 1 instead of greater than 0.5)"
   ]
  },
  {
   "cell_type": "code",
   "execution_count": null,
   "id": "db75d405",
   "metadata": {},
   "outputs": [],
   "source": [
    "#Plotting all the objects\n",
    "\n",
    "%matplotlib notebook\n",
    "\n",
    "fig, ax1 = plt.subplots(figsize=(12, 6))\n",
    "scatter = ax1.scatter(data.TEFF, data.LOGG, c = data.FE_H, label = 'Teff/Logg', s=75)\n",
    "ax1.set_xlim([6000,3750])\n",
    "ax1.set_ylim([4, 3])\n",
    "fig.suptitle('Log(g) / Effective Temperature of golden sample stars of relevance from Troup et al. 2016', fontsize=10)\n",
    "plt.xlabel('Effective Temperature [K]', fontsize=10)\n",
    "plt.ylabel('Log(g) [log10(cm/s^2)]', fontsize=10)\n",
    "legend = fig.legend(*scatter.legend_elements(), title=\"metallicity\")\n",
    "fig.add_artist(legend)\n",
    "fig.show()"
   ]
  },
  {
   "cell_type": "code",
   "execution_count": null,
   "id": "ae89983d",
   "metadata": {},
   "outputs": [],
   "source": [
    "# Here, we query the objects to only get the high mass ratio objects from the Gold Sample\n",
    "\n",
    "stars_from_troup = data.query('NVISITS>2 & @divided > 1')\n",
    "stars_from_troup\n",
    "stars_from_troup.to_csv(r'Troup et al. 2016 (YES RED CLUMP) Final.csv')"
   ]
  },
  {
   "cell_type": "code",
   "execution_count": null,
   "id": "e63cb231",
   "metadata": {},
   "outputs": [],
   "source": [
    "len(stars_from_troup)"
   ]
  }
 ],
 "metadata": {
  "kernelspec": {
   "display_name": "Python 3 (ipykernel)",
   "language": "python",
   "name": "python3"
  },
  "language_info": {
   "codemirror_mode": {
    "name": "ipython",
    "version": 3
   },
   "file_extension": ".py",
   "mimetype": "text/x-python",
   "name": "python",
   "nbconvert_exporter": "python",
   "pygments_lexer": "ipython3",
   "version": "3.10.9"
  }
 },
 "nbformat": 4,
 "nbformat_minor": 5
}
