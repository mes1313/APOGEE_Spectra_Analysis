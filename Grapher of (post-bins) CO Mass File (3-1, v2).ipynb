{
 "cells": [
  {
   "cell_type": "code",
   "execution_count": null,
   "id": "f906619c",
   "metadata": {},
   "outputs": [],
   "source": [
    "import astropy\n",
    "from astropy.io import fits\n",
    "import matplotlib\n",
    "import matplotlib.pyplot as plt\n",
    "import numpy as np\n",
    "import pandas as pd\n",
    "from astropy.table import Table\n",
    "\n",
    "binned_data = pd.read_csv('APOGEE+JOKER+ESTIMATE_MASS+ERROR+BINS.csv')\n",
    "\n",
    "binned_data"
   ]
  },
  {
   "cell_type": "code",
   "execution_count": null,
   "id": "a266d6a7",
   "metadata": {},
   "outputs": [],
   "source": [
    "#Plotting all the objects\n",
    "\n",
    "%matplotlib notebook\n",
    "\n",
    "fig, ax = plt.subplots(figsize=(10, 5))\n",
    "scatter = ax.scatter(binned_data.teff, binned_data.logg,c=binned_data[\"bin\"], cmap='inferno',s = (binned_data[\"CO Mass [Solar Masses, Joker]\"] *10))\n",
    "ax.set_xlim([6900,2800])\n",
    "ax.set_ylim([4.7, 3.2])\n",
    "fig.suptitle('Log(g) / Effective Temperature (2 or more visits, vscatter > 1 [km/s], vsin(i) > 10 [km/s], and only 1 set of Spectral Lines, size is mass of star)', fontsize=11)\n",
    "plt.xlabel('Effective Temperature [K]', fontsize=12)\n",
    "plt.ylabel('Log(g) [log10(cm/s^2)]', fontsize=12)\n",
    "legend = ax.legend(*scatter.legend_elements(),loc=\"center right\", title=\"Bins\")\n",
    "legend.get_texts()[0].set_text('Good Object')\n",
    "legend.get_texts()[1].set_text('Slightly Okay Object')\n",
    "legend.get_texts()[2].set_text('Pipeline Issue')\n",
    "legend.get_texts()[3].set_text('Poorly Sampled')\n",
    "legend.get_texts()[4].set_text('Duplicate')\n",
    "ax.add_artist(legend)\n",
    "fig.show()"
   ]
  },
  {
   "cell_type": "code",
   "execution_count": null,
   "id": "e668991d",
   "metadata": {},
   "outputs": [],
   "source": [
    "#Plotting all the objects\n",
    "\n",
    "%matplotlib notebook\n",
    "fig, ax = plt.subplots(figsize=(10, 5))\n",
    "hist = ax.hist(binned_data[\"bin\"], histtype='barstacked',color='red', label = 'Distribution in Bins')\n",
    "\n",
    "fig.suptitle('Histogram of Bins from Systems w/ Joker Solutions', fontsize=11)\n",
    "plt.xlabel('Bin', fontsize=12)\n",
    "plt.ylabel('count', fontsize=12)\n",
    "fig.show()"
   ]
  }
 ],
 "metadata": {
  "kernelspec": {
   "display_name": "Python 3 (ipykernel)",
   "language": "python",
   "name": "python3"
  },
  "language_info": {
   "codemirror_mode": {
    "name": "ipython",
    "version": 3
   },
   "file_extension": ".py",
   "mimetype": "text/x-python",
   "name": "python",
   "nbconvert_exporter": "python",
   "pygments_lexer": "ipython3",
   "version": "3.9.7"
  }
 },
 "nbformat": 4,
 "nbformat_minor": 5
}
